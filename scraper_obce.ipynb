{
 "cells": [
  {
   "cell_type": "code",
   "execution_count": 1,
   "metadata": {},
   "outputs": [],
   "source": [
    "import requests\n",
    "import json\n",
    "import xml.etree.ElementTree as ET\n",
    "from time import gmtime, strftime, sleep\n",
    "import time\n",
    "import datetime\n",
    "import boto3\n",
    "from multiprocessing import Pool"
   ]
  },
  {
   "cell_type": "code",
   "execution_count": 2,
   "metadata": {},
   "outputs": [],
   "source": [
    "kraje = {\n",
    "    'CZ010': 'Hlavní město Praha',\n",
    "    'CZ020': 'Středočeský kraj',\n",
    "    'CZ031': 'Jihočeský kraj',\n",
    "    'CZ032': 'Plzeňský kraj',\n",
    "    'CZ041': 'Karlovarský kraj',\n",
    "    'CZ042': 'Ústecký kraj',\n",
    "    'CZ051': 'Liberecký kraj',\n",
    "    'CZ052': 'Královéhradecký kraj',\n",
    "    'CZ053': 'Pardubický kraj',\n",
    "    'CZ063': 'Kraj Vysočina',\n",
    "    'CZ064': 'Jihomoravský kraj',\n",
    "    'CZ071': 'Olomoucký kraj',\n",
    "    'CZ072': 'Zlínský kraj',\n",
    "    'CZ080': 'Moravskoslezský kraj'\n",
    "}"
   ]
  },
  {
   "cell_type": "code",
   "execution_count": 3,
   "metadata": {},
   "outputs": [],
   "source": [
    "kandidati = {\n",
    "    '1': 'Mirek Topolánek',\n",
    "    '2': 'Michal Horáček',\n",
    "    '3': 'Pavel Fischer',\n",
    "    '4': 'Jiří Hynek',\n",
    "    '5': 'Petr Hannig',\n",
    "    '6': 'Vratislav Kulhánek',\n",
    "    '7': 'Miloš Zeman',\n",
    "    '8': 'Marek Hilšer',\n",
    "    '9': 'Jiří Drahoš'\n",
    "}"
   ]
  },
  {
   "cell_type": "code",
   "execution_count": 4,
   "metadata": {},
   "outputs": [],
   "source": [
    "ns = '{http://www.volby.cz/prezident/}'\n",
    "s3 = boto3.client('s3')"
   ]
  },
  {
   "cell_type": "code",
   "execution_count": 7,
   "metadata": {},
   "outputs": [
    {
     "name": "stdout",
     "output_type": "stream",
     "text": [
      "Hlavní město Praha\n",
      "{'UPDATED': '2017-12-19T14:50:06.865765Z', 'OKRES': 'CZ010', 'NAZ_OKRES': 'Hlavní město Praha', 'KAND': {'1': {'PORADOVE_CISLO': '1', 'HLASY': '5143', 'JMENO': 'Mirek Topolánek'}, '2': {'PORADOVE_CISLO': '2', 'HLASY': '4676', 'JMENO': 'Michal Horáček'}, '3': {'PORADOVE_CISLO': '3', 'HLASY': '4998', 'JMENO': 'Pavel Fischer'}, '4': {'PORADOVE_CISLO': '4', 'HLASY': '7728', 'JMENO': 'Jiří Hynek'}, '5': {'PORADOVE_CISLO': '5', 'HLASY': '5497', 'JMENO': 'Petr Hannig'}, '6': {'PORADOVE_CISLO': '6', 'HLASY': '5508', 'JMENO': 'Vratislav Kulhánek'}, '7': {'PORADOVE_CISLO': '7', 'HLASY': '5436', 'JMENO': 'Miloš Zeman'}, '8': {'PORADOVE_CISLO': '8', 'HLASY': '8312', 'JMENO': 'Marek Hilšer'}, '9': {'PORADOVE_CISLO': '9', 'HLASY': '5085', 'JMENO': 'Jiří Drahoš'}}, 'CIS_OBEC': '500178', 'NAZ_OBEC': 'Praha 6', 'TYP_OBEC': 'MCMO', 'KOLO': '1', 'OKRSKY_CELKEM': '104', 'OKRSKY_ZPRAC': '104', 'OKRSKY_ZPRAC_PROC': '100.00', 'ZAPSANI_VOLICI': '63907', 'VYDANE_OBALKY': '55008', 'UCAST_PROC': '86.08', 'ODEVZDANE_OBALKY': '53966', 'PLATNE_HLASY': '52383', 'PLATNE_HLASY_PROC': '97.07'}\n",
      "Středočeský kraj\n",
      "{'UPDATED': '2017-12-19T14:50:06.881338Z', 'OKRES': 'CZ0201', 'NAZ_OKRES': 'Benešov', 'KAND': {'1': {'PORADOVE_CISLO': '1', 'HLASY': '129', 'JMENO': 'Mirek Topolánek'}, '2': {'PORADOVE_CISLO': '2', 'HLASY': '140', 'JMENO': 'Michal Horáček'}, '3': {'PORADOVE_CISLO': '3', 'HLASY': '175', 'JMENO': 'Pavel Fischer'}, '4': {'PORADOVE_CISLO': '4', 'HLASY': '237', 'JMENO': 'Jiří Hynek'}, '5': {'PORADOVE_CISLO': '5', 'HLASY': '96', 'JMENO': 'Petr Hannig'}, '6': {'PORADOVE_CISLO': '6', 'HLASY': '166', 'JMENO': 'Vratislav Kulhánek'}, '7': {'PORADOVE_CISLO': '7', 'HLASY': '117', 'JMENO': 'Miloš Zeman'}, '8': {'PORADOVE_CISLO': '8', 'HLASY': '260', 'JMENO': 'Marek Hilšer'}, '9': {'PORADOVE_CISLO': '9', 'HLASY': '88', 'JMENO': 'Jiří Drahoš'}}, 'CIS_OBEC': '529516', 'NAZ_OBEC': 'Čerčany', 'TYP_OBEC': 'OBEC_BEZ_MCMO', 'KOLO': '1', 'OKRSKY_CELKEM': '2', 'OKRSKY_ZPRAC': '2', 'OKRSKY_ZPRAC_PROC': '100.00', 'ZAPSANI_VOLICI': '1718', 'VYDANE_OBALKY': '1479', 'UCAST_PROC': '86.09', 'ODEVZDANE_OBALKY': '1450', 'PLATNE_HLASY': '1408', 'PLATNE_HLASY_PROC': '97.10'}\n",
      "Jihočeský kraj\n",
      "{'UPDATED': '2017-12-19T14:50:07.334510Z', 'OKRES': 'CZ0311', 'NAZ_OKRES': 'České Budějovice', 'KAND': {'1': {'PORADOVE_CISLO': '1', 'HLASY': '26', 'JMENO': 'Mirek Topolánek'}, '2': {'PORADOVE_CISLO': '2', 'HLASY': '19', 'JMENO': 'Michal Horáček'}, '3': {'PORADOVE_CISLO': '3', 'HLASY': '6', 'JMENO': 'Pavel Fischer'}, '4': {'PORADOVE_CISLO': '4', 'HLASY': '96', 'JMENO': 'Jiří Hynek'}, '5': {'PORADOVE_CISLO': '5', 'HLASY': '68', 'JMENO': 'Petr Hannig'}, '6': {'PORADOVE_CISLO': '6', 'HLASY': '25', 'JMENO': 'Vratislav Kulhánek'}, '7': {'PORADOVE_CISLO': '7', 'HLASY': '34', 'JMENO': 'Miloš Zeman'}, '8': {'PORADOVE_CISLO': '8', 'HLASY': '87', 'JMENO': 'Marek Hilšer'}, '9': {'PORADOVE_CISLO': '9', 'HLASY': '25', 'JMENO': 'Jiří Drahoš'}}, 'CIS_OBEC': '535281', 'NAZ_OBEC': 'Mydlovary', 'TYP_OBEC': 'OBEC_BEZ_MCMO', 'KOLO': '1', 'OKRSKY_CELKEM': '1', 'OKRSKY_ZPRAC': '1', 'OKRSKY_ZPRAC_PROC': '100.00', 'ZAPSANI_VOLICI': '471', 'VYDANE_OBALKY': '405', 'UCAST_PROC': '85.99', 'ODEVZDANE_OBALKY': '398', 'PLATNE_HLASY': '386', 'PLATNE_HLASY_PROC': '96.98'}\n",
      "Plzeňský kraj\n",
      "{'UPDATED': '2017-12-19T14:50:07.600164Z', 'OKRES': 'CZ0321', 'NAZ_OKRES': 'Domažlice', 'KAND': {'1': {'PORADOVE_CISLO': '1', 'HLASY': '12', 'JMENO': 'Mirek Topolánek'}, '2': {'PORADOVE_CISLO': '2', 'HLASY': '97', 'JMENO': 'Michal Horáček'}, '3': {'PORADOVE_CISLO': '3', 'HLASY': '8', 'JMENO': 'Pavel Fischer'}, '4': {'PORADOVE_CISLO': '4', 'HLASY': '98', 'JMENO': 'Jiří Hynek'}, '5': {'PORADOVE_CISLO': '5', 'HLASY': '34', 'JMENO': 'Petr Hannig'}, '6': {'PORADOVE_CISLO': '6', 'HLASY': '25', 'JMENO': 'Vratislav Kulhánek'}, '7': {'PORADOVE_CISLO': '7', 'HLASY': '51', 'JMENO': 'Miloš Zeman'}, '8': {'PORADOVE_CISLO': '8', 'HLASY': '51', 'JMENO': 'Marek Hilšer'}, '9': {'PORADOVE_CISLO': '9', 'HLASY': '90', 'JMENO': 'Jiří Drahoš'}}, 'CIS_OBEC': '553514', 'NAZ_OBEC': 'Čermná', 'TYP_OBEC': 'OBEC_BEZ_MCMO', 'KOLO': '1', 'OKRSKY_CELKEM': '1', 'OKRSKY_ZPRAC': '1', 'OKRSKY_ZPRAC_PROC': '100.00', 'ZAPSANI_VOLICI': '569', 'VYDANE_OBALKY': '489', 'UCAST_PROC': '85.94', 'ODEVZDANE_OBALKY': '480', 'PLATNE_HLASY': '466', 'PLATNE_HLASY_PROC': '97.08'}\n",
      "Karlovarský kraj\n",
      "{'UPDATED': '2017-12-19T14:50:07.818937Z', 'OKRES': 'CZ0411', 'NAZ_OKRES': 'Cheb', 'KAND': {'1': {'PORADOVE_CISLO': '1', 'HLASY': '38', 'JMENO': 'Mirek Topolánek'}, '2': {'PORADOVE_CISLO': '2', 'HLASY': '16', 'JMENO': 'Michal Horáček'}, '3': {'PORADOVE_CISLO': '3', 'HLASY': '82', 'JMENO': 'Pavel Fischer'}, '4': {'PORADOVE_CISLO': '4', 'HLASY': '87', 'JMENO': 'Jiří Hynek'}, '5': {'PORADOVE_CISLO': '5', 'HLASY': '55', 'JMENO': 'Petr Hannig'}, '6': {'PORADOVE_CISLO': '6', 'HLASY': '94', 'JMENO': 'Vratislav Kulhánek'}, '7': {'PORADOVE_CISLO': '7', 'HLASY': '89', 'JMENO': 'Miloš Zeman'}, '8': {'PORADOVE_CISLO': '8', 'HLASY': '66', 'JMENO': 'Marek Hilšer'}, '9': {'PORADOVE_CISLO': '9', 'HLASY': '62', 'JMENO': 'Jiří Drahoš'}}, 'CIS_OBEC': '539023', 'NAZ_OBEC': 'Třebeň', 'TYP_OBEC': 'OBEC_BEZ_MCMO', 'KOLO': '1', 'OKRSKY_CELKEM': '1', 'OKRSKY_ZPRAC': '1', 'OKRSKY_ZPRAC_PROC': '100.00', 'ZAPSANI_VOLICI': '719', 'VYDANE_OBALKY': '618', 'UCAST_PROC': '85.95', 'ODEVZDANE_OBALKY': '607', 'PLATNE_HLASY': '589', 'PLATNE_HLASY_PROC': '97.03'}\n",
      "Ústecký kraj\n",
      "{'UPDATED': '2017-12-19T14:50:07.850189Z', 'OKRES': 'CZ0421', 'NAZ_OKRES': 'Děčín', 'KAND': {'1': {'PORADOVE_CISLO': '1', 'HLASY': '79', 'JMENO': 'Mirek Topolánek'}, '2': {'PORADOVE_CISLO': '2', 'HLASY': '4', 'JMENO': 'Michal Horáček'}, '3': {'PORADOVE_CISLO': '3', 'HLASY': '16', 'JMENO': 'Pavel Fischer'}, '4': {'PORADOVE_CISLO': '4', 'HLASY': '54', 'JMENO': 'Jiří Hynek'}, '5': {'PORADOVE_CISLO': '5', 'HLASY': '74', 'JMENO': 'Petr Hannig'}, '6': {'PORADOVE_CISLO': '6', 'HLASY': '80', 'JMENO': 'Vratislav Kulhánek'}, '7': {'PORADOVE_CISLO': '7', 'HLASY': '14', 'JMENO': 'Miloš Zeman'}, '8': {'PORADOVE_CISLO': '8', 'HLASY': '72', 'JMENO': 'Marek Hilšer'}, '9': {'PORADOVE_CISLO': '9', 'HLASY': '71', 'JMENO': 'Jiří Drahoš'}}, 'CIS_OBEC': '545538', 'NAZ_OBEC': 'Starý Šachov', 'TYP_OBEC': 'OBEC_BEZ_MCMO', 'KOLO': '1', 'OKRSKY_CELKEM': '1', 'OKRSKY_ZPRAC': '1', 'OKRSKY_ZPRAC_PROC': '100.00', 'ZAPSANI_VOLICI': '566', 'VYDANE_OBALKY': '487', 'UCAST_PROC': '86.04', 'ODEVZDANE_OBALKY': '478', 'PLATNE_HLASY': '464', 'PLATNE_HLASY_PROC': '97.07'}\n",
      "Liberecký kraj\n",
      "{'UPDATED': '2017-12-19T14:50:08.069249Z', 'OKRES': 'CZ0511', 'NAZ_OKRES': 'Česká Lípa', 'KAND': {'1': {'PORADOVE_CISLO': '1', 'HLASY': '99', 'JMENO': 'Mirek Topolánek'}, '2': {'PORADOVE_CISLO': '2', 'HLASY': '155', 'JMENO': 'Michal Horáček'}, '3': {'PORADOVE_CISLO': '3', 'HLASY': '49', 'JMENO': 'Pavel Fischer'}, '4': {'PORADOVE_CISLO': '4', 'HLASY': '231', 'JMENO': 'Jiří Hynek'}, '5': {'PORADOVE_CISLO': '5', 'HLASY': '126', 'JMENO': 'Petr Hannig'}, '6': {'PORADOVE_CISLO': '6', 'HLASY': '89', 'JMENO': 'Vratislav Kulhánek'}, '7': {'PORADOVE_CISLO': '7', 'HLASY': '90', 'JMENO': 'Miloš Zeman'}, '8': {'PORADOVE_CISLO': '8', 'HLASY': '95', 'JMENO': 'Marek Hilšer'}, '9': {'PORADOVE_CISLO': '9', 'HLASY': '120', 'JMENO': 'Jiří Drahoš'}}, 'CIS_OBEC': '544337', 'NAZ_OBEC': 'Hamr na Jezeře', 'TYP_OBEC': 'OBEC_BEZ_MCMO', 'KOLO': '1', 'OKRSKY_CELKEM': '2', 'OKRSKY_ZPRAC': '2', 'OKRSKY_ZPRAC_PROC': '100.00', 'ZAPSANI_VOLICI': '1286', 'VYDANE_OBALKY': '1106', 'UCAST_PROC': '86.00', 'ODEVZDANE_OBALKY': '1086', 'PLATNE_HLASY': '1054', 'PLATNE_HLASY_PROC': '97.05'}\n",
      "Královéhradecký kraj\n",
      "{'UPDATED': '2017-12-19T14:50:08.178600Z', 'OKRES': 'CZ0521', 'NAZ_OKRES': 'Hradec Králové', 'KAND': {'1': {'PORADOVE_CISLO': '1', 'HLASY': '35', 'JMENO': 'Mirek Topolánek'}, '2': {'PORADOVE_CISLO': '2', 'HLASY': '78', 'JMENO': 'Michal Horáček'}, '3': {'PORADOVE_CISLO': '3', 'HLASY': '33', 'JMENO': 'Pavel Fischer'}, '4': {'PORADOVE_CISLO': '4', 'HLASY': '20', 'JMENO': 'Jiří Hynek'}, '5': {'PORADOVE_CISLO': '5', 'HLASY': '63', 'JMENO': 'Petr Hannig'}, '6': {'PORADOVE_CISLO': '6', 'HLASY': '44', 'JMENO': 'Vratislav Kulhánek'}, '7': {'PORADOVE_CISLO': '7', 'HLASY': '44', 'JMENO': 'Miloš Zeman'}, '8': {'PORADOVE_CISLO': '8', 'HLASY': '129', 'JMENO': 'Marek Hilšer'}, '9': {'PORADOVE_CISLO': '9', 'HLASY': '95', 'JMENO': 'Jiří Drahoš'}}, 'CIS_OBEC': '548677', 'NAZ_OBEC': 'Vysoký Újezd', 'TYP_OBEC': 'OBEC_BEZ_MCMO', 'KOLO': '1', 'OKRSKY_CELKEM': '1', 'OKRSKY_ZPRAC': '1', 'OKRSKY_ZPRAC_PROC': '100.00', 'ZAPSANI_VOLICI': '660', 'VYDANE_OBALKY': '568', 'UCAST_PROC': '86.06', 'ODEVZDANE_OBALKY': '557', 'PLATNE_HLASY': '541', 'PLATNE_HLASY_PROC': '97.13'}\n",
      "Pardubický kraj\n",
      "{'UPDATED': '2017-12-19T14:50:08.397376Z', 'OKRES': 'CZ0531', 'NAZ_OKRES': 'Chrudim', 'KAND': {'1': {'PORADOVE_CISLO': '1', 'HLASY': '15', 'JMENO': 'Mirek Topolánek'}, '2': {'PORADOVE_CISLO': '2', 'HLASY': '61', 'JMENO': 'Michal Horáček'}, '3': {'PORADOVE_CISLO': '3', 'HLASY': '75', 'JMENO': 'Pavel Fischer'}, '4': {'PORADOVE_CISLO': '4', 'HLASY': '35', 'JMENO': 'Jiří Hynek'}, '5': {'PORADOVE_CISLO': '5', 'HLASY': '88', 'JMENO': 'Petr Hannig'}, '6': {'PORADOVE_CISLO': '6', 'HLASY': '95', 'JMENO': 'Vratislav Kulhánek'}, '7': {'PORADOVE_CISLO': '7', 'HLASY': '98', 'JMENO': 'Miloš Zeman'}, '8': {'PORADOVE_CISLO': '8', 'HLASY': '137', 'JMENO': 'Marek Hilšer'}, '9': {'PORADOVE_CISLO': '9', 'HLASY': '79', 'JMENO': 'Jiří Drahoš'}}, 'CIS_OBEC': '505030', 'NAZ_OBEC': 'Dolní Bezděkov', 'TYP_OBEC': 'OBEC_BEZ_MCMO', 'KOLO': '1', 'OKRSKY_CELKEM': '1', 'OKRSKY_ZPRAC': '1', 'OKRSKY_ZPRAC_PROC': '100.00', 'ZAPSANI_VOLICI': '833', 'VYDANE_OBALKY': '717', 'UCAST_PROC': '86.07', 'ODEVZDANE_OBALKY': '703', 'PLATNE_HLASY': '683', 'PLATNE_HLASY_PROC': '97.16'}\n",
      "Kraj Vysočina\n"
     ]
    },
    {
     "name": "stdout",
     "output_type": "stream",
     "text": [
      "{'UPDATED': '2017-12-19T14:50:08.584918Z', 'OKRES': 'CZ0631', 'NAZ_OKRES': 'Havlíčkův Brod', 'KAND': {'1': {'PORADOVE_CISLO': '1', 'HLASY': '37', 'JMENO': 'Mirek Topolánek'}, '2': {'PORADOVE_CISLO': '2', 'HLASY': '15', 'JMENO': 'Michal Horáček'}, '3': {'PORADOVE_CISLO': '3', 'HLASY': '75', 'JMENO': 'Pavel Fischer'}, '4': {'PORADOVE_CISLO': '4', 'HLASY': '144', 'JMENO': 'Jiří Hynek'}, '5': {'PORADOVE_CISLO': '5', 'HLASY': '11', 'JMENO': 'Petr Hannig'}, '6': {'PORADOVE_CISLO': '6', 'HLASY': '45', 'JMENO': 'Vratislav Kulhánek'}, '7': {'PORADOVE_CISLO': '7', 'HLASY': '73', 'JMENO': 'Miloš Zeman'}, '8': {'PORADOVE_CISLO': '8', 'HLASY': '71', 'JMENO': 'Marek Hilšer'}, '9': {'PORADOVE_CISLO': '9', 'HLASY': '24', 'JMENO': 'Jiří Drahoš'}}, 'CIS_OBEC': '548189', 'NAZ_OBEC': 'Kouty', 'TYP_OBEC': 'OBEC_BEZ_MCMO', 'KOLO': '1', 'OKRSKY_CELKEM': '1', 'OKRSKY_ZPRAC': '1', 'OKRSKY_ZPRAC_PROC': '100.00', 'ZAPSANI_VOLICI': '604', 'VYDANE_OBALKY': '520', 'UCAST_PROC': '86.09', 'ODEVZDANE_OBALKY': '510', 'PLATNE_HLASY': '495', 'PLATNE_HLASY_PROC': '97.06'}\n",
      "Jihomoravský kraj\n",
      "{'UPDATED': '2017-12-19T14:50:08.881799Z', 'OKRES': 'CZ0641', 'NAZ_OKRES': 'Blansko', 'KAND': {'1': {'PORADOVE_CISLO': '1', 'HLASY': '72', 'JMENO': 'Mirek Topolánek'}, '2': {'PORADOVE_CISLO': '2', 'HLASY': '43', 'JMENO': 'Michal Horáček'}, '3': {'PORADOVE_CISLO': '3', 'HLASY': '94', 'JMENO': 'Pavel Fischer'}, '4': {'PORADOVE_CISLO': '4', 'HLASY': '96', 'JMENO': 'Jiří Hynek'}, '5': {'PORADOVE_CISLO': '5', 'HLASY': '78', 'JMENO': 'Petr Hannig'}, '6': {'PORADOVE_CISLO': '6', 'HLASY': '65', 'JMENO': 'Vratislav Kulhánek'}, '7': {'PORADOVE_CISLO': '7', 'HLASY': '50', 'JMENO': 'Miloš Zeman'}, '8': {'PORADOVE_CISLO': '8', 'HLASY': '116', 'JMENO': 'Marek Hilšer'}, '9': {'PORADOVE_CISLO': '9', 'HLASY': '4', 'JMENO': 'Jiří Drahoš'}}, 'CIS_OBEC': '553875', 'NAZ_OBEC': 'Louka', 'TYP_OBEC': 'OBEC_BEZ_MCMO', 'KOLO': '1', 'OKRSKY_CELKEM': '1', 'OKRSKY_ZPRAC': '1', 'OKRSKY_ZPRAC_PROC': '100.00', 'ZAPSANI_VOLICI': '754', 'VYDANE_OBALKY': '649', 'UCAST_PROC': '86.07', 'ODEVZDANE_OBALKY': '637', 'PLATNE_HLASY': '618', 'PLATNE_HLASY_PROC': '97.02'}\n",
      "Olomoucký kraj\n",
      "{'UPDATED': '2017-12-19T14:50:09.194334Z', 'OKRES': 'CZ0711', 'NAZ_OKRES': 'Jeseník', 'KAND': {'1': {'PORADOVE_CISLO': '1', 'HLASY': '518', 'JMENO': 'Mirek Topolánek'}, '2': {'PORADOVE_CISLO': '2', 'HLASY': '375', 'JMENO': 'Michal Horáček'}, '3': {'PORADOVE_CISLO': '3', 'HLASY': '689', 'JMENO': 'Pavel Fischer'}, '4': {'PORADOVE_CISLO': '4', 'HLASY': '751', 'JMENO': 'Jiří Hynek'}, '5': {'PORADOVE_CISLO': '5', 'HLASY': '639', 'JMENO': 'Petr Hannig'}, '6': {'PORADOVE_CISLO': '6', 'HLASY': '675', 'JMENO': 'Vratislav Kulhánek'}, '7': {'PORADOVE_CISLO': '7', 'HLASY': '543', 'JMENO': 'Miloš Zeman'}, '8': {'PORADOVE_CISLO': '8', 'HLASY': '963', 'JMENO': 'Marek Hilšer'}, '9': {'PORADOVE_CISLO': '9', 'HLASY': '559', 'JMENO': 'Jiří Drahoš'}}, 'CIS_OBEC': '536385', 'NAZ_OBEC': 'Jeseník', 'TYP_OBEC': 'OBEC_BEZ_MCMO', 'KOLO': '1', 'OKRSKY_CELKEM': '11', 'OKRSKY_ZPRAC': '11', 'OKRSKY_ZPRAC_PROC': '100.00', 'ZAPSANI_VOLICI': '6970', 'VYDANE_OBALKY': '6000', 'UCAST_PROC': '86.08', 'ODEVZDANE_OBALKY': '5885', 'PLATNE_HLASY': '5712', 'PLATNE_HLASY_PROC': '97.06'}\n",
      "Zlínský kraj\n",
      "{'UPDATED': '2017-12-19T14:50:09.381852Z', 'OKRES': 'CZ0721', 'NAZ_OKRES': 'Kroměříž', 'KAND': {'1': {'PORADOVE_CISLO': '1', 'HLASY': '64', 'JMENO': 'Mirek Topolánek'}, '2': {'PORADOVE_CISLO': '2', 'HLASY': '20', 'JMENO': 'Michal Horáček'}, '3': {'PORADOVE_CISLO': '3', 'HLASY': '34', 'JMENO': 'Pavel Fischer'}, '4': {'PORADOVE_CISLO': '4', 'HLASY': '14', 'JMENO': 'Jiří Hynek'}, '5': {'PORADOVE_CISLO': '5', 'HLASY': '46', 'JMENO': 'Petr Hannig'}, '6': {'PORADOVE_CISLO': '6', 'HLASY': '90', 'JMENO': 'Vratislav Kulhánek'}, '7': {'PORADOVE_CISLO': '7', 'HLASY': '81', 'JMENO': 'Miloš Zeman'}, '8': {'PORADOVE_CISLO': '8', 'HLASY': '141', 'JMENO': 'Marek Hilšer'}, '9': {'PORADOVE_CISLO': '9', 'HLASY': '6', 'JMENO': 'Jiří Drahoš'}}, 'CIS_OBEC': '549720', 'NAZ_OBEC': 'Přílepy', 'TYP_OBEC': 'OBEC_BEZ_MCMO', 'KOLO': '1', 'OKRSKY_CELKEM': '1', 'OKRSKY_ZPRAC': '1', 'OKRSKY_ZPRAC_PROC': '100.00', 'ZAPSANI_VOLICI': '605', 'VYDANE_OBALKY': '521', 'UCAST_PROC': '86.12', 'ODEVZDANE_OBALKY': '511', 'PLATNE_HLASY': '496', 'PLATNE_HLASY_PROC': '97.06'}\n",
      "Moravskoslezský kraj\n",
      "{'UPDATED': '2017-12-19T14:50:09.553780Z', 'OKRES': 'CZ0801', 'NAZ_OKRES': 'Bruntál', 'KAND': {'1': {'PORADOVE_CISLO': '1', 'HLASY': '43', 'JMENO': 'Mirek Topolánek'}, '2': {'PORADOVE_CISLO': '2', 'HLASY': '10', 'JMENO': 'Michal Horáček'}, '3': {'PORADOVE_CISLO': '3', 'HLASY': '56', 'JMENO': 'Pavel Fischer'}, '4': {'PORADOVE_CISLO': '4', 'HLASY': '32', 'JMENO': 'Jiří Hynek'}, '5': {'PORADOVE_CISLO': '5', 'HLASY': '58', 'JMENO': 'Petr Hannig'}, '6': {'PORADOVE_CISLO': '6', 'HLASY': '85', 'JMENO': 'Vratislav Kulhánek'}, '7': {'PORADOVE_CISLO': '7', 'HLASY': '37', 'JMENO': 'Miloš Zeman'}, '8': {'PORADOVE_CISLO': '8', 'HLASY': '125', 'JMENO': 'Marek Hilšer'}, '9': {'PORADOVE_CISLO': '9', 'HLASY': '90', 'JMENO': 'Jiří Drahoš'}}, 'CIS_OBEC': '551767', 'NAZ_OBEC': 'Staré Město', 'TYP_OBEC': 'OBEC_BEZ_MCMO', 'KOLO': '1', 'OKRSKY_CELKEM': '1', 'OKRSKY_ZPRAC': '1', 'OKRSKY_ZPRAC_PROC': '100.00', 'ZAPSANI_VOLICI': '654', 'VYDANE_OBALKY': '563', 'UCAST_PROC': '86.09', 'ODEVZDANE_OBALKY': '552', 'PLATNE_HLASY': '536', 'PLATNE_HLASY_PROC': '97.10'}\n"
     ]
    }
   ],
   "source": [
    "def write(out):\n",
    "    obid = out['CIS_OBEC']\n",
    "    print(obid + ' | ' + strftime(\"%Y-%m-%d %H_%M_%S\", time.localtime())) \n",
    "    putFile = s3.put_object(Bucket='prezident17', \n",
    "                            Key='kolo1/obce/' + obid + '.json', \n",
    "                            Body=json.dumps(out), \n",
    "                            ACL='public-read', \n",
    "                            ContentType='application/json')\n",
    "\n",
    "while True:\n",
    "    for kraj in kraje:\n",
    "        print(kraje[kraj])\n",
    "        kr_data = []\n",
    "        now = str(datetime.datetime.utcnow().isoformat()) + 'Z'\n",
    "        r = requests.get('http://80.188.53.60/pls/prezmedia/vysledky_kraj?kolo=&nuts=' + kraj)\n",
    "        root = ET.fromstring(r.text)\n",
    "        for okres in root[0].findall(ns + 'OKRES'):    \n",
    "            for obec in okres.findall(ns + 'OBEC'):\n",
    "                out = {\n",
    "                    'UPDATED': now,\n",
    "                    'OKRES': okres.attrib['NUTS_OKRES'],\n",
    "                    'NAZ_OKRES': okres.attrib['NAZ_OKRES'],\n",
    "                    'KAND': {}\n",
    "                }\n",
    "                out.update(obec.attrib)\n",
    "                out.update(obec.find(ns + 'UCAST').attrib)\n",
    "                \n",
    "                for kn in obec.findall(ns + 'HODN_KAND'):\n",
    "                    kn_id = kn.attrib['PORADOVE_CISLO']\n",
    "\n",
    "                    out['KAND'][kn_id] = kn.attrib\n",
    "                    out['KAND'][kn_id].update({'JMENO': kandidati[kn.attrib['PORADOVE_CISLO']]})                    \n",
    "                \n",
    "                kr_data.append(out)\n",
    "\n",
    "        with Pool(150) as p:\n",
    "            p.map(write, kr_data)\n",
    "        \n",
    "    break #remove before flight"
   ]
  }
 ],
 "metadata": {
  "kernelspec": {
   "display_name": "Python 3",
   "language": "python",
   "name": "python3"
  },
  "language_info": {
   "codemirror_mode": {
    "name": "ipython",
    "version": 3
   },
   "file_extension": ".py",
   "mimetype": "text/x-python",
   "name": "python",
   "nbconvert_exporter": "python",
   "pygments_lexer": "ipython3",
   "version": "3.6.3"
  }
 },
 "nbformat": 4,
 "nbformat_minor": 2
}
