{
 "cells": [
  {
   "cell_type": "code",
   "execution_count": 1,
   "metadata": {},
   "outputs": [],
   "source": [
    "import requests\n",
    "import json\n",
    "import xml.etree.ElementTree as ET\n",
    "from time import gmtime, strftime, sleep\n",
    "import time\n",
    "import datetime\n",
    "import boto3\n",
    "from multiprocessing import Pool\n",
    "from var import *"
   ]
  },
  {
   "cell_type": "code",
   "execution_count": 3,
   "metadata": {},
   "outputs": [],
   "source": [
    "kraje = {\n",
    "    'CZ010': 'Hlavní město Praha',\n",
    "    'CZ020': 'Středočeský kraj',\n",
    "    'CZ031': 'Jihočeský kraj',\n",
    "    'CZ032': 'Plzeňský kraj',\n",
    "    'CZ041': 'Karlovarský kraj',\n",
    "    'CZ042': 'Ústecký kraj',\n",
    "    'CZ051': 'Liberecký kraj',\n",
    "    'CZ052': 'Královéhradecký kraj',\n",
    "    'CZ053': 'Pardubický kraj',\n",
    "    'CZ063': 'Kraj Vysočina',\n",
    "    'CZ064': 'Jihomoravský kraj',\n",
    "    'CZ071': 'Olomoucký kraj',\n",
    "    'CZ072': 'Zlínský kraj',\n",
    "    'CZ080': 'Moravskoslezský kraj'\n",
    "}"
   ]
  },
  {
   "cell_type": "code",
   "execution_count": 4,
   "metadata": {},
   "outputs": [],
   "source": [
    "kandidati = {\n",
    "    '1': 'Mirek Topolánek',\n",
    "    '2': 'Michal Horáček',\n",
    "    '3': 'Pavel Fischer',\n",
    "    '4': 'Jiří Hynek',\n",
    "    '5': 'Petr Hannig',\n",
    "    '6': 'Vratislav Kulhánek',\n",
    "    '7': 'Miloš Zeman',\n",
    "    '8': 'Marek Hilšer',\n",
    "    '9': 'Jiří Drahoš'\n",
    "}"
   ]
  },
  {
   "cell_type": "code",
   "execution_count": null,
   "metadata": {},
   "outputs": [],
   "source": [
    "ns = '{http://www.volby.cz/prezident/}'\n",
    "s3 = boto3.client('s3')"
   ]
  },
  {
   "cell_type": "code",
   "execution_count": null,
   "metadata": {},
   "outputs": [
    {
     "name": "stdout",
     "output_type": "stream",
     "text": [
      "Hlavní město Praha\n"
     ]
    }
   ],
   "source": [
    "def write(out):\n",
    "    obid = out['CIS_OBEC']\n",
    "    print(obid + ' | ' + strftime(\"%Y-%m-%d %H_%M_%S\", time.localtime())) \n",
    "    putFile = s3.put_object(Bucket='prezident17', \n",
    "                            Key='kolo' + kolo + '/obce/' + obid + '.json', \n",
    "                            Body=json.dumps(out), \n",
    "                            ACL='public-read', \n",
    "                            ContentType='application/json')\n",
    "\n",
    "while True:\n",
    "    for kraj in kraje:\n",
    "        print(kraje[kraj])\n",
    "        kr_data = []\n",
    "        now = str(datetime.datetime.utcnow().isoformat()) + 'Z'\n",
    "        r = requests.get(endpoint + '/pls/prezmedia/vysledky_kraj?kolo=&nuts=' + kraj)\n",
    "        root = ET.fromstring(r.text)\n",
    "        for okres in root[0].findall(ns + 'OKRES'):    \n",
    "            for obec in okres.findall(ns + 'OBEC'):\n",
    "                out = {\n",
    "                    'UPDATED': now,\n",
    "                    'OKRES': okres.attrib['NUTS_OKRES'],\n",
    "                    'NAZ_OKRES': okres.attrib['NAZ_OKRES'],\n",
    "                    'KAND': {}\n",
    "                }\n",
    "                out.update(obec.attrib)\n",
    "                out.update(obec.find(ns + 'UCAST').attrib)\n",
    "                \n",
    "                for kn in obec.findall(ns + 'HODN_KAND'):\n",
    "                    kn_id = kn.attrib['PORADOVE_CISLO']\n",
    "\n",
    "                    out['KAND'][kn_id] = kn.attrib\n",
    "                    out['KAND'][kn_id].update({'JMENO': kandidati[kn.attrib['PORADOVE_CISLO']]})                    \n",
    "                \n",
    "                kr_data.append(out)\n",
    "\n",
    "        with Pool(150) as p:\n",
    "            p.map(write, kr_data)\n",
    "        \n",
    "    break #remove before flight"
   ]
  }
 ],
 "metadata": {
  "kernelspec": {
   "display_name": "Python 3",
   "language": "python",
   "name": "python3"
  },
  "language_info": {
   "codemirror_mode": {
    "name": "ipython",
    "version": 3
   },
   "file_extension": ".py",
   "mimetype": "text/x-python",
   "name": "python",
   "nbconvert_exporter": "python",
   "pygments_lexer": "ipython3",
   "version": "3.6.3"
  }
 },
 "nbformat": 4,
 "nbformat_minor": 2
}
